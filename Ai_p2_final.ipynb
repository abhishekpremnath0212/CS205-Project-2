{
  "nbformat": 4,
  "nbformat_minor": 0,
  "metadata": {
    "colab": {
      "name": "Ai p2 final.ipynb",
      "provenance": []
    },
    "kernelspec": {
      "name": "python3",
      "display_name": "Python 3"
    },
    "language_info": {
      "name": "python"
    }
  },
  "cells": [
    {
      "cell_type": "code",
      "source": [
        "def distance(a,b,values):#calulating euclidean distance\n",
        "    dist = 0\n",
        "    for i in values:\n",
        "        dist += math.pow(a[i]-b[i],2)\n",
        "    return math.sqrt(dist)\n",
        "\n",
        "def NN(a,b,values):#calculating nearest neighbor\n",
        "    val = []\n",
        "    for i in a:\n",
        "        dist = distance(i,b,values)\n",
        "        val.append([dist,i[0]])\n",
        "    val.sort(key=operator.itemgetter(0))\n",
        "    return val[0][1]"
      ],
      "metadata": {
        "id": "y8sKVT5wdeLP"
      },
      "execution_count": 18,
      "outputs": []
    },
    {
      "cell_type": "code",
      "source": [
        "def calculate_acc(mat,current_feat,feature,choice):#calcuating accuracy with a set of features\n",
        "\n",
        "    freq = 0\n",
        "    current = list(current_feat[:])\n",
        "    if choice == 1:\n",
        "        current.append(feature)\n",
        "    else:\n",
        "        current.remove(feature)\n",
        "\n",
        "    for k in range(0, len(mat)):\n",
        "        train = mat[:]\n",
        "        test = train.pop(k)\n",
        "        group = NN(train,test,current)\n",
        "        if test[0] == group:\n",
        "            freq += 1\n",
        "    acc = freq / float(len(mat))\n",
        "    return acc"
      ],
      "metadata": {
        "id": "6vP_IC1udksC"
      },
      "execution_count": 19,
      "outputs": []
    },
    {
      "cell_type": "code",
      "source": [
        "def forward_selection(mat):#forward selection\n",
        "    global xx\n",
        "    global yy\n",
        "    xx=[]\n",
        "    yy=[]\n",
        "    ff = []\n",
        "    fa = 0\n",
        "    current_features = []\n",
        "    feature_size = len(mat[0])\n",
        "    accuracies = []\n",
        "    inc=0\n",
        "    for i in range(1,feature_size):\n",
        "        added_feature = -1\n",
        "        ba = 0\n",
        "\n",
        "        for j in range(1,feature_size):\n",
        "            if j not in current_features:\n",
        "                acc = calculate_acc(mat,current_features,j,1)\n",
        "                print( \"Using feature(s) [\"+str(j)+\"] acc is \"+str(acc))\n",
        "                if acc > ba:\n",
        "                    ba = acc\n",
        "                    added_feature = j\n",
        "\n",
        "        if added_feature != -1:\n",
        "            current_features.append(added_feature)\n",
        "            print(\"\\nlevel \"+str(i)+\" feature: \"+ str(added_feature) + \" added beacuse it has the highest accuracy\")\n",
        "            print(\"Best accuracy:\"+str(ba)+\" with features \"+str(current_features))\n",
        "            xx.append(\"lvl \"+str(inc))\n",
        "            inc+=1\n",
        "            yy.append(ba)\n",
        "            \n",
        "            accuracies.append(ba)#appending accuracies\n",
        "        if ba > fa:#updating best accuracy\n",
        "            ff = current_features[:]\n",
        "            fa = ba\n",
        "    print(\"\\n\")\n",
        "    print(\"Best feature subset is: \"+str(ff))\n",
        "    print(\"Best accuracy is: \"+str(fa))"
      ],
      "metadata": {
        "id": "Ul8L3rAWdknb"
      },
      "execution_count": 20,
      "outputs": []
    },
    {
      "cell_type": "code",
      "source": [
        "def backward_elimination(mat):#backward elimination\n",
        "    ii=0\n",
        "    global xx\n",
        "    global yy\n",
        "    ff = []\n",
        "    fa = 0\n",
        "    current_features = list(range(1,len(mat[0])))\n",
        "    feature_size = len(mat[0])\n",
        "    accuracies = []\n",
        "    for i in range(1, feature_size):\n",
        "        del_feature = -1\n",
        "        ba = 0\n",
        "        for j in range(1, feature_size):\n",
        "            if j in current_features:\n",
        "                acc = calculate_acc(mat, current_features,j,2)\n",
        "                print(\"Using feature(s) [\" + str(j) + \"] acc is \" + str(acc))\n",
        "                if acc > ba:#updating best accuary\n",
        "                    ba = acc\n",
        "                    del_feature = j\n",
        "\n",
        "        if del_feature != -1:\n",
        "            current_features.remove(del_feature)\n",
        "            print(\"\\nlevel \" + str(i) + \" feature: \" + str(del_feature)+\" with accuracy:\" + str(ba)+\" was removed\")\n",
        "            accuracies.append(ba)\n",
        "            xx.append(\"lvl \"+str(ii))\n",
        "            ii+=1\n",
        "            yy.append(ba)\n",
        "        if ba > fa:\n",
        "            ff = current_features[:]\n",
        "            fa = ba\n",
        "\n",
        "    print(\"\\n\")\n",
        "    print(\"Best feature subset is: \"+str(ff))\n",
        "    print(\"Best accuracy is: \"+str(fa))\n",
        "    "
      ],
      "metadata": {
        "id": "P-mn21X4dkYr"
      },
      "execution_count": 21,
      "outputs": []
    },
    {
      "cell_type": "code",
      "source": [
        "if __name__ == '__main__':#driver code\n",
        "    file = \"CS205_SP_2022_SMALLtestdata__79.txt\"#text file can be changed for a different dataset\n",
        "    with open(file) as f:\n",
        "        data = f.readlines()\n",
        "    row = []\n",
        "    mat = []\n",
        "    data = [x.strip() for x in data]\n",
        "    for line in data:\n",
        "        values = re.split(\" +\",line)\n",
        "        for v in values:#converting to 2D matrix\n",
        "            val = float(decimal.Decimal(v))\n",
        "            row.append(val)\n",
        "        mat.append(row)\n",
        "        row = []\n",
        "\n",
        "    print(\"Choose Algorithm\\n 1.Forward Search\\n 2.Backward Elimination\")\n",
        "    n = int(input(\"Enter your choice: \"))\n",
        "    \n",
        "    start_time = time.time()\n",
        "    if n==1:\n",
        "        forward_selection(mat)\n",
        "    elif n==2:\n",
        "        backward_elimination(mat)\n",
        "    else:\n",
        "      print(\"Invalid Choice\")\n",
        "    print(\"--- %s seconds ---\" % (time.time() - start_time))"
      ],
      "metadata": {
        "colab": {
          "base_uri": "https://localhost:8080/"
        },
        "id": "oSkO9oqddkWA",
        "outputId": "1c134aa9-dc97-4216-b906-f7ad256260ad"
      },
      "execution_count": 22,
      "outputs": [
        {
          "output_type": "stream",
          "name": "stdout",
          "text": [
            "Choose Algorithm\n",
            " 1.Forward Search\n",
            " 2.Backward Elimination\n",
            "Enter your choice: 1\n",
            "Using feature(s) [1] acc is 0.6866666666666666\n",
            "Using feature(s) [2] acc is 0.71\n",
            "Using feature(s) [3] acc is 0.7133333333333334\n",
            "Using feature(s) [4] acc is 0.6833333333333333\n",
            "Using feature(s) [5] acc is 0.69\n",
            "Using feature(s) [6] acc is 0.7066666666666667\n",
            "Using feature(s) [7] acc is 0.7033333333333334\n",
            "Using feature(s) [8] acc is 0.8233333333333334\n",
            "Using feature(s) [9] acc is 0.7233333333333334\n",
            "Using feature(s) [10] acc is 0.68\n",
            "\n",
            "level 1 feature: 8 added beacuse it has the highest accuracy\n",
            "Best accuracy:0.8233333333333334 with features [8]\n",
            "Using feature(s) [1] acc is 0.7733333333333333\n",
            "Using feature(s) [2] acc is 0.9666666666666667\n",
            "Using feature(s) [3] acc is 0.8366666666666667\n",
            "Using feature(s) [4] acc is 0.7966666666666666\n",
            "Using feature(s) [5] acc is 0.8333333333333334\n",
            "Using feature(s) [6] acc is 0.82\n",
            "Using feature(s) [7] acc is 0.81\n",
            "Using feature(s) [9] acc is 0.8566666666666667\n",
            "Using feature(s) [10] acc is 0.8\n",
            "\n",
            "level 2 feature: 2 added beacuse it has the highest accuracy\n",
            "Best accuracy:0.9666666666666667 with features [8, 2]\n",
            "Using feature(s) [1] acc is 0.8833333333333333\n",
            "Using feature(s) [3] acc is 0.94\n",
            "Using feature(s) [4] acc is 0.94\n",
            "Using feature(s) [5] acc is 0.93\n",
            "Using feature(s) [6] acc is 0.91\n",
            "Using feature(s) [7] acc is 0.9233333333333333\n",
            "Using feature(s) [9] acc is 0.9533333333333334\n",
            "Using feature(s) [10] acc is 0.9033333333333333\n",
            "\n",
            "level 3 feature: 9 added beacuse it has the highest accuracy\n",
            "Best accuracy:0.9533333333333334 with features [8, 2, 9]\n",
            "Using feature(s) [1] acc is 0.8633333333333333\n",
            "Using feature(s) [3] acc is 0.91\n",
            "Using feature(s) [4] acc is 0.88\n",
            "Using feature(s) [5] acc is 0.8533333333333334\n",
            "Using feature(s) [6] acc is 0.88\n",
            "Using feature(s) [7] acc is 0.92\n",
            "Using feature(s) [10] acc is 0.86\n",
            "\n",
            "level 4 feature: 7 added beacuse it has the highest accuracy\n",
            "Best accuracy:0.92 with features [8, 2, 9, 7]\n",
            "Using feature(s) [1] acc is 0.8266666666666667\n",
            "Using feature(s) [3] acc is 0.8566666666666667\n",
            "Using feature(s) [4] acc is 0.8366666666666667\n",
            "Using feature(s) [5] acc is 0.84\n",
            "Using feature(s) [6] acc is 0.8533333333333334\n",
            "Using feature(s) [10] acc is 0.8233333333333334\n",
            "\n",
            "level 5 feature: 3 added beacuse it has the highest accuracy\n",
            "Best accuracy:0.8566666666666667 with features [8, 2, 9, 7, 3]\n",
            "Using feature(s) [1] acc is 0.8166666666666667\n",
            "Using feature(s) [4] acc is 0.8266666666666667\n",
            "Using feature(s) [5] acc is 0.8033333333333333\n",
            "Using feature(s) [6] acc is 0.8566666666666667\n",
            "Using feature(s) [10] acc is 0.8066666666666666\n",
            "\n",
            "level 6 feature: 6 added beacuse it has the highest accuracy\n",
            "Best accuracy:0.8566666666666667 with features [8, 2, 9, 7, 3, 6]\n",
            "Using feature(s) [1] acc is 0.8566666666666667\n",
            "Using feature(s) [4] acc is 0.8233333333333334\n",
            "Using feature(s) [5] acc is 0.8033333333333333\n",
            "Using feature(s) [10] acc is 0.7966666666666666\n",
            "\n",
            "level 7 feature: 1 added beacuse it has the highest accuracy\n",
            "Best accuracy:0.8566666666666667 with features [8, 2, 9, 7, 3, 6, 1]\n",
            "Using feature(s) [4] acc is 0.7833333333333333\n",
            "Using feature(s) [5] acc is 0.8066666666666666\n",
            "Using feature(s) [10] acc is 0.7933333333333333\n",
            "\n",
            "level 8 feature: 5 added beacuse it has the highest accuracy\n",
            "Best accuracy:0.8066666666666666 with features [8, 2, 9, 7, 3, 6, 1, 5]\n",
            "Using feature(s) [4] acc is 0.7633333333333333\n",
            "Using feature(s) [10] acc is 0.7833333333333333\n",
            "\n",
            "level 9 feature: 10 added beacuse it has the highest accuracy\n",
            "Best accuracy:0.7833333333333333 with features [8, 2, 9, 7, 3, 6, 1, 5, 10]\n",
            "Using feature(s) [4] acc is 0.7566666666666667\n",
            "\n",
            "level 10 feature: 4 added beacuse it has the highest accuracy\n",
            "Best accuracy:0.7566666666666667 with features [8, 2, 9, 7, 3, 6, 1, 5, 10, 4]\n",
            "\n",
            "\n",
            "Best feature subset is: [8, 2]\n",
            "Best accuracy is: 0.9666666666666667\n",
            "--- 8.137334108352661 seconds ---\n"
          ]
        }
      ]
    },
    {
      "cell_type": "code",
      "source": [
        "plt.gcf().autofmt_xdate()#data visualization\n",
        "plt.xlabel(\"Level of Search\")\n",
        "plt.ylabel(\"acc\")\n",
        "plt.bar(xx,yy)\n",
        "\n",
        "plt.xticks(rotation = 45)\n",
        "plt.show()"
      ],
      "metadata": {
        "colab": {
          "base_uri": "https://localhost:8080/",
          "height": 271
        },
        "id": "CSl4m_3JdkS4",
        "outputId": "68287f7b-21a2-44cc-a581-a04abfc65903"
      },
      "execution_count": 24,
      "outputs": [
        {
          "output_type": "display_data",
          "data": {
            "text/plain": [
              "<Figure size 432x288 with 1 Axes>"
            ],
            "image/png": "[encoded data removed]"
          },
          "metadata": {
            "needs_background": "light"
          }
        }
      ]
    }
  ]
}